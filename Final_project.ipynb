{
  "nbformat": 4,
  "nbformat_minor": 0,
  "metadata": {
    "colab": {
      "provenance": []
    },
    "kernelspec": {
      "name": "python3",
      "display_name": "Python 3"
    },
    "language_info": {
      "name": "python"
    }
  },
  "cells": [
    {
      "cell_type": "code",
      "source": [
        "import requests\n",
        "import json\n",
        "\n",
        "# --- Replace these with your actual credentials ---\n",
        "API_KEY = \"B_uTRrsl5vX14ZvVxR7KJE_JfyAk4erD3ED37GZYRnsD\"\n",
        "DEPLOYMENT_URL = \"https://au-syd.ml.cloud.ibm.com/ml/v4/deployments/8ae9e318-0ba5-4b59-b575-caca7d798513/predictions?version=2021-05-01\"\n",
        "\n",
        "\n",
        "# --- Get IAM access token ---\n",
        "token_response = requests.post(\n",
        "    'https://iam.cloud.ibm.com/identity/token',\n",
        "    data={\"apikey\": API_KEY, \"grant_type\": 'urn:ibm:params:oauth:grant-type:apikey'},\n",
        "    headers={'Content-Type': 'application/x-www-form-urlencoded'}\n",
        ")\n",
        "ml_token = token_response.json()[\"access_token\"]\n",
        "\n",
        "# --- Set headers for the request ---\n",
        "headers = {\n",
        "    'Content-Type': 'application/json',\n",
        "    'Authorization': f'Bearer {ml_token}'\n",
        "}\n",
        "\n",
        "# --- Example input for heart disease prediction ---\n",
        "payload = {\n",
        "    \"input_data\": [{\n",
        "        \"fields\": [\n",
        "            \"age\", \"sex\", \"cp\", \"trestbps\", \"chol\", \"fbs\",\n",
        "            \"restecg\", \"thalach\", \"exang\", \"oldpeak\", \"slope\",\n",
        "            \"ca\", \"thal\"\n",
        "        ],\n",
        "        \"values\": [[63, 1, 3, 145, 233, 1, 0, 150, 0, 2.3, 0, 0, 1]]\n",
        "        # Note: this is an example row from UCI dataset\n",
        "    }]\n",
        "}\n",
        "\n",
        "# --- Make the POST request to AutoAI scoring endpoint ---\n",
        "response = requests.post(DEPLOYMENT_URL, headers=headers, json=payload)\n",
        "\n",
        "# --- Show the prediction result ---\n",
        "prediction = response.json()\n",
        "print(\"Prediction:\", json.dumps(prediction, indent=2))\n"
      ],
      "metadata": {
        "colab": {
          "base_uri": "https://localhost:8080/"
        },
        "id": "X9HULvC3xRUt",
        "outputId": "f9da8c08-ff8b-4e82-87cb-380cb444201c"
      },
      "execution_count": null,
      "outputs": [
        {
          "output_type": "stream",
          "name": "stdout",
          "text": [
            "Prediction: {\n",
            "  \"predictions\": [\n",
            "    {\n",
            "      \"fields\": [\n",
            "        \"prediction\",\n",
            "        \"probability\"\n",
            "      ],\n",
            "      \"values\": [\n",
            "        [\n",
            "          1.0,\n",
            "          [\n",
            "            0.31185349902342063,\n",
            "            0.6881465009765794\n",
            "          ]\n",
            "        ]\n",
            "      ]\n",
            "    }\n",
            "  ]\n",
            "}\n"
          ]
        }
      ]
    }
  ]
}
